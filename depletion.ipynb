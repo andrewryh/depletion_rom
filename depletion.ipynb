{
 "cells": [
  {
   "cell_type": "code",
   "execution_count": 1,
   "metadata": {},
   "outputs": [
    {
     "name": "stderr",
     "output_type": "stream",
     "text": [
      "Using TensorFlow backend.\n"
     ]
    }
   ],
   "source": [
    "import numpy as np\n",
    "import matplotlib.pyplot as plt\n",
    "import seaborn as sns\n",
    "import pandas as pd\n",
    "import sklearn\n",
    "import keras.backend as K\n",
    "from keras.models import Sequential\n",
    "from keras.layers import Dense\n",
    "from sklearn.ensemble import RandomForestRegressor\n",
    "from sklearn import linear_model\n",
    "from sklearn import svm\n",
    "import pickle"
   ]
  },
  {
   "cell_type": "code",
   "execution_count": 2,
   "metadata": {},
   "outputs": [],
   "source": [
    "# load pickled dictionary with\n",
    "# key: isotope\n",
    "# value: trained model\n",
    "dep_dict = pickle.load(open('dep.pkl',\"rb\"))"
   ]
  },
  {
   "cell_type": "code",
   "execution_count": 10,
   "metadata": {},
   "outputs": [
    {
     "name": "stdout",
     "output_type": "stream",
     "text": [
      "1.0002094516997702\n"
     ]
    },
    {
     "data": {
      "text/plain": [
       "{'zr-95': 1.3763760317857658e-06,\n",
       " 'zr-93': 0.0009480419653022391,\n",
       " 'ra-226': 6.284350366624123e-14,\n",
       " 'ru-103': 7.813449403922842e-08,\n",
       " 'ru-106': 9.56218240454948e-05,\n",
       " 'sb-124': 1.0512181261403607e-09,\n",
       " 'sb-125': 1.07251106069892e-05,\n",
       " 'pu-238': 0.0003089622874404416,\n",
       " 'pu-239': 0.007543298406280426,\n",
       " 'np-237': 0.0005995504182691911,\n",
       " 'nb-95': 1.6233682924660572e-06,\n",
       " 'pa-231': 6.219506520151069e-10,\n",
       " 'pd-107': 0.00032356034592425086,\n",
       " 'pm-147': 0.00015425122010328344,\n",
       " 'pu-240': 0.0028870634738575353,\n",
       " 'pu-241': 0.0019627029752729043,\n",
       " 'pu-244': 7.291683098935056e-08,\n",
       " 'pu-242': 0.0007659580077897907,\n",
       " 'i-129': 0.0002053900634005136,\n",
       " 'h-3': 6.652652341942352e-08,\n",
       " 'kr-85': 2.9475650212489216e-05,\n",
       " 'nb-94': 1.996466828318788e-09,\n",
       " 'cm-248': 9.186049651566777e-10,\n",
       " 'cs-134': 0.00012743865811420003,\n",
       " 'cs-135': 0.0005767940466238297,\n",
       " 'cm-245': 6.824492936023956e-06,\n",
       " 'cm-244': 9.532563589498704e-05,\n",
       " 'cm-246': 6.855094460834948e-07,\n",
       " 'cm-247': 1.0763252586644479e-08,\n",
       " 'eu-152': 2.0284855295722025e-08,\n",
       " 'cs-137': 0.0014725684135269315,\n",
       " 'eu-154': 3.517429980466253e-05,\n",
       " 'eu-155': 9.88773626503833e-06,\n",
       " 'am-241': 0.00016122806166111878,\n",
       " 'am-242m': 1.2050611693108744e-06,\n",
       " 'am-243': 0.00021759894171593527,\n",
       " 'cf-251': 2.683819399950451e-12,\n",
       " 'cf-249': 9.118260706755874e-12,\n",
       " 'ag-108m': 3.1120797371298946e-10,\n",
       " 'ag-110m': 4.704720380293743e-07,\n",
       " 'ac-227': 2.4925800606600547e-14,\n",
       " 'cm-243': 7.06255987442246e-07,\n",
       " 'cm-242': 6.379815889712761e-06,\n",
       " 'c-14': 1.1878748295376342e-07,\n",
       " 'ce-144': 0.00014574215928348462,\n",
       " 'u-234': 0.0001388252028881076,\n",
       " 'u-235': 0.007208316056241672,\n",
       " 'u-236': 0.004434457942093854,\n",
       " 'y-90': 1.478685039137144e-07,\n",
       " 'u-238': 0.9681523099598511,\n",
       " 'th-229': 2.604524893363761e-12,\n",
       " 'tc-99': 0.0009460962823252735,\n",
       " 'sm-151': 1.671447392206436e-05,\n",
       " 'se-79': 5.601258430070956e-06,\n",
       " 'sr-90': 0.0005829345977729056,\n",
       " 'sn-126': 2.8031987981246937e-05,\n",
       " 'th-232': 4.923221398934654e-09,\n",
       " 'th-230': 2.3697720521432068e-09,\n",
       " 'u-232': 1.702635176332728e-09,\n",
       " 'u-233': 3.6935624645068042e-09}"
      ]
     },
     "execution_count": 10,
     "metadata": {},
     "output_type": "execute_result"
    }
   ],
   "source": [
    "# given enrichment and burnup value,\n",
    "# predict UNF composition\n",
    "\n",
    "depleted_composition = {}\n",
    "enr_br = np.array([[3, 40000]])\n",
    "for iso, model in dep_dict.items():\n",
    "    depleted_composition[iso] = model.predict(enr_br)[0]\n",
    "\n",
    "depleted_composition\n"
   ]
  },
  {
   "cell_type": "code",
   "execution_count": null,
   "metadata": {},
   "outputs": [],
   "source": []
  }
 ],
 "metadata": {
  "kernelspec": {
   "display_name": "Python 3",
   "language": "python",
   "name": "python3"
  },
  "language_info": {
   "codemirror_mode": {
    "name": "ipython",
    "version": 3
   },
   "file_extension": ".py",
   "mimetype": "text/x-python",
   "name": "python",
   "nbconvert_exporter": "python",
   "pygments_lexer": "ipython3",
   "version": "3.6.6"
  }
 },
 "nbformat": 4,
 "nbformat_minor": 2
}
